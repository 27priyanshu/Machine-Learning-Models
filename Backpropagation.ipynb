{
  "nbformat": 4,
  "nbformat_minor": 0,
  "metadata": {
    "colab": {
      "provenance": [],
      "authorship_tag": "ABX9TyPy0gPLt3K+2VXyDNetzZBg",
      "include_colab_link": true
    },
    "kernelspec": {
      "name": "python3",
      "display_name": "Python 3"
    },
    "language_info": {
      "name": "python"
    }
  },
  "cells": [
    {
      "cell_type": "markdown",
      "metadata": {
        "id": "view-in-github",
        "colab_type": "text"
      },
      "source": [
        "<a href=\"https://colab.research.google.com/github/27priyanshu/Machine-Learning-Models/blob/main/Backpropagation.ipynb\" target=\"_parent\"><img src=\"https://colab.research.google.com/assets/colab-badge.svg\" alt=\"Open In Colab\"/></a>"
      ]
    },
    {
      "cell_type": "code",
      "source": [
        "import numpy as np"
      ],
      "metadata": {
        "id": "72PooBeFNnwD"
      },
      "execution_count": 8,
      "outputs": []
    },
    {
      "cell_type": "code",
      "source": [
        "#activation function\n",
        "\n",
        "def act_fun(x):\n",
        "  return 1/(1+np.exp(-x))\n"
      ],
      "metadata": {
        "id": "iEVmtOHwRuJR"
      },
      "execution_count": 20,
      "outputs": []
    },
    {
      "cell_type": "code",
      "source": [
        "t=0.5"
      ],
      "metadata": {
        "id": "HU6vSKOMS3Xq"
      },
      "execution_count": 27,
      "outputs": []
    },
    {
      "cell_type": "code",
      "source": [
        "# input values\n",
        "x = np.array([0.35, 0.9])"
      ],
      "metadata": {
        "id": "JN_G_DKOPUTy"
      },
      "execution_count": 21,
      "outputs": []
    },
    {
      "cell_type": "code",
      "source": [
        "w1 = np.array([0.1,0.4])\n",
        "w2 = np.array([0.8,0.6])\n",
        "w3 = np.array([0.3,0.9])"
      ],
      "metadata": {
        "id": "PDCRvRW8Pggh"
      },
      "execution_count": 22,
      "outputs": []
    },
    {
      "cell_type": "code",
      "source": [
        "O1 = act_fun(np.dot(x,w1))\n",
        "O2 = act_fun(np.dot(x,w2))\n",
        "\n",
        "O3 = act_fun(np.dot(np.array([O1,O2]),w3))\n",
        "\n",
        "print(O1)\n",
        "print(O2)\n",
        "print(O3)"
      ],
      "metadata": {
        "colab": {
          "base_uri": "https://localhost:8080/"
        },
        "id": "8hguEtXSQYph",
        "outputId": "196d487e-9936-4e99-b4fd-11dccefe552b"
      },
      "execution_count": 32,
      "outputs": [
        {
          "output_type": "stream",
          "name": "stdout",
          "text": [
            "0.5974857658270161\n",
            "0.6942363401080306\n",
            "0.6908419498992018\n"
          ]
        }
      ]
    },
    {
      "cell_type": "code",
      "source": [
        "print(O3)"
      ],
      "metadata": {
        "colab": {
          "base_uri": "https://localhost:8080/"
        },
        "id": "gisKq6jeRN0B",
        "outputId": "6ca9b241-3f33-41fe-d6f0-5e942ba88aaa"
      },
      "execution_count": 26,
      "outputs": [
        {
          "output_type": "stream",
          "name": "stdout",
          "text": [
            "0.6908419498992018\n"
          ]
        }
      ]
    },
    {
      "cell_type": "code",
      "source": [
        "error=t-O3\n",
        "print(error)"
      ],
      "metadata": {
        "colab": {
          "base_uri": "https://localhost:8080/"
        },
        "id": "Hn5azX_NRqZB",
        "outputId": "846bf270-b3a2-4305-f80f-5776bf7df703"
      },
      "execution_count": 29,
      "outputs": [
        {
          "output_type": "stream",
          "name": "stdout",
          "text": [
            "-0.19084194989920178\n"
          ]
        }
      ]
    },
    {
      "cell_type": "markdown",
      "source": [
        "Now we will find Gradiant of each.\n"
      ],
      "metadata": {
        "id": "180AkYPLTsG6"
      }
    },
    {
      "cell_type": "code",
      "source": [
        "del3 = O3*(1-O3)*error\n",
        "del2 = O3*(1-O3)*del3*w3[1]\n",
        "del1 = O3*(1-O3)*del3*w3[0]\n",
        "\n",
        "print(del3)\n",
        "print(del2)\n",
        "print(del1)"
      ],
      "metadata": {
        "colab": {
          "base_uri": "https://localhost:8080/"
        },
        "id": "bMcPcQ20S6Yh",
        "outputId": "981fc2b2-921f-48ca-9667-e254891c1739"
      },
      "execution_count": 33,
      "outputs": [
        {
          "output_type": "stream",
          "name": "stdout",
          "text": [
            "-0.04075989964248508\n",
            "-0.007834925590357132\n",
            "-0.0026116418634523774\n"
          ]
        }
      ]
    },
    {
      "cell_type": "code",
      "source": [
        "w1[0]=w1[0]+del1*x[0]\n",
        "w1[1]=w1[1]+del1*x[1]\n",
        "w2[0]=w2[0]+del2*x[0]\n",
        "w2[1]=w2[1]+del2*x[1]\n",
        "w3[0]=w3[0]+del1*O1\n",
        "w3[1]=w3[1]+del1*O2\n"
      ],
      "metadata": {
        "id": "4fqXJuOMYnCB"
      },
      "execution_count": 35,
      "outputs": []
    },
    {
      "cell_type": "markdown",
      "source": [
        "Forward"
      ],
      "metadata": {
        "id": "FQCrz9vschCR"
      }
    },
    {
      "cell_type": "code",
      "source": [
        "O1 = act_fun(np.dot(x,w1))\n",
        "O2 = act_fun(np.dot(x,w2))\n",
        "\n",
        "O3 = act_fun(np.dot(np.array([O1,O2]),w3))\n",
        "\n",
        "error = t-O3\n",
        "\n",
        "print(error)\n"
      ],
      "metadata": {
        "colab": {
          "base_uri": "https://localhost:8080/"
        },
        "id": "eAhrBD1vcDvN",
        "outputId": "67bf4c45-b7dc-4d5e-ad9c-cf4ebcac25c1"
      },
      "execution_count": 36,
      "outputs": [
        {
          "output_type": "stream",
          "name": "stdout",
          "text": [
            "-0.18950224983082098\n"
          ]
        }
      ]
    },
    {
      "cell_type": "code",
      "source": [],
      "metadata": {
        "id": "dSDLCocGcfew"
      },
      "execution_count": null,
      "outputs": []
    }
  ]
}