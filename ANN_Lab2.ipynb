{
  "nbformat": 4,
  "nbformat_minor": 0,
  "metadata": {
    "colab": {
      "provenance": [],
      "authorship_tag": "ABX9TyPm8pfIsF9XasGH2lIx0hjX",
      "include_colab_link": true
    },
    "kernelspec": {
      "name": "python3",
      "display_name": "Python 3"
    },
    "language_info": {
      "name": "python"
    }
  },
  "cells": [
    {
      "cell_type": "markdown",
      "metadata": {
        "id": "view-in-github",
        "colab_type": "text"
      },
      "source": [
        "<a href=\"https://colab.research.google.com/github/27priyanshu/Machine-Learning-Models/blob/main/ANN_Lab2.ipynb\" target=\"_parent\"><img src=\"https://colab.research.google.com/assets/colab-badge.svg\" alt=\"Open In Colab\"/></a>"
      ]
    },
    {
      "cell_type": "markdown",
      "source": [
        "**Hebb learning**"
      ],
      "metadata": {
        "id": "I20Fp2Sn5KU3"
      }
    },
    {
      "cell_type": "code",
      "source": [
        "import numpy as np"
      ],
      "metadata": {
        "id": "ASnqA_oF8fnv"
      },
      "execution_count": 1,
      "outputs": []
    },
    {
      "cell_type": "code",
      "source": [
        "# wt = 0\n",
        "# wi = 0\n",
        "# b = 0"
      ],
      "metadata": {
        "id": "DoUsIgfy5KOH"
      },
      "execution_count": null,
      "outputs": []
    },
    {
      "cell_type": "markdown",
      "source": [
        "AND gate"
      ],
      "metadata": {
        "id": "2IV-z1iFAAfc"
      }
    },
    {
      "cell_type": "code",
      "source": [
        "x1 = [1,1,-1,-1]\n",
        "x2 = [1,-1,1,-1]\n",
        "t = [1,-1,-1,-1]\n",
        "w=[0,0]\n",
        "b=0\n",
        "y=0\n",
        "\n",
        "for i in range(4):\n",
        "  y = x1[i]*w[0]+x2[i]*w[1]+b\n",
        "  if(y!=t[i]):\n",
        "    w[0] = w[0]+x1[i]*t[i]\n",
        "    w[1] = w[1]+x2[i]*t[i]\n",
        "    b = b + t[i]\n",
        "\n",
        "print(f\"Weight : {w},bias : {b}\")\n",
        "\n"
      ],
      "metadata": {
        "colab": {
          "base_uri": "https://localhost:8080/"
        },
        "id": "JzYVyhMv5JP6",
        "outputId": "6aaa2824-ecb7-4a6c-cbac-586a9706290d"
      },
      "execution_count": 7,
      "outputs": [
        {
          "output_type": "stream",
          "name": "stdout",
          "text": [
            "Weight : [2, 2],bias : -2\n"
          ]
        }
      ]
    },
    {
      "cell_type": "markdown",
      "source": [
        "OR Gate"
      ],
      "metadata": {
        "id": "HnGRRQMeADKD"
      }
    },
    {
      "cell_type": "code",
      "source": [
        "x1 = [1,1,-1,-1]\n",
        "x2 = [1,-1,1,-1]\n",
        "t = [1,1,1,-1]\n",
        "w=[0,0]\n",
        "b=0\n",
        "y=0\n",
        "\n",
        "for i in range(4):\n",
        "  y = x1[i]*w[0]+x2[i]*w[1]+b\n",
        "  if(y!=t[i]):\n",
        "    w[0] = w[0]+x1[i]*t[i]\n",
        "    w[1] = w[1]+x2[i]*t[i]\n",
        "    b = b + t[i]\n",
        "\n",
        "print(f\"Weight : {w},bias : {b}\")\n"
      ],
      "metadata": {
        "colab": {
          "base_uri": "https://localhost:8080/"
        },
        "id": "JsIV-lCzAGS7",
        "outputId": "e5eeb902-89b4-4d05-c1ca-97c699935c32"
      },
      "execution_count": 8,
      "outputs": [
        {
          "output_type": "stream",
          "name": "stdout",
          "text": [
            "Weight : [1, 1],bias : 1\n"
          ]
        }
      ]
    },
    {
      "cell_type": "markdown",
      "source": [
        "OR gate for Adaline"
      ],
      "metadata": {
        "id": "Q1R4E0RR5JpP"
      }
    },
    {
      "cell_type": "code",
      "execution_count": 23,
      "metadata": {
        "colab": {
          "base_uri": "https://localhost:8080/"
        },
        "id": "tfQDY6375C_o",
        "outputId": "c1c951d5-ade1-4b00-dfbf-2249cc003716"
      },
      "outputs": [
        {
          "output_type": "stream",
          "name": "stdout",
          "text": [
            "Weight : [0.16999999999999998, 0.16999999999999998], bias : 0.16999999999999998\n",
            "Weight : [0.253, 0.08699999999999997], bias : 0.253\n",
            "Weight : [0.1617, 0.17829999999999996], bias : 0.3443\n",
            "Weight : [0.26213000000000003, 0.27873], bias : 0.24386999999999998\n"
          ]
        }
      ],
      "source": [
        "x1 = [1, 1, -1, -1]\n",
        "x2 = [1, -1, 1, -1]\n",
        "t = [1, 1, 1, -1]\n",
        "w = [0.1, 0.1]\n",
        "b = 0.1\n",
        "ita = 0.1\n",
        "\n",
        "for i in range(4):\n",
        "    y = x1[i] * w[0] + x2[i] * w[1] + b\n",
        "    if y != t[i]:\n",
        "        w[0] = w[0] + ita * (t[i] - y) * x1[i]\n",
        "        w[1] = w[1] + ita * (t[i] - y) * x2[i]\n",
        "        b = b + ita * (t[i] - y)\n",
        "        print(f\"Weight : {w}, bias : {b}\")\n",
        "\n"
      ]
    },
    {
      "cell_type": "code",
      "source": [],
      "metadata": {
        "id": "o2lqlZIdEHt6"
      },
      "execution_count": null,
      "outputs": []
    }
  ]
}